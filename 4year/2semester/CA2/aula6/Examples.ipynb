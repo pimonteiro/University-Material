{
 "cells": [
  {
   "cell_type": "code",
   "execution_count": 27,
   "metadata": {},
   "outputs": [],
   "source": [
    "#Example 1 - MNIST"
   ]
  },
  {
   "cell_type": "code",
   "execution_count": 1,
   "metadata": {},
   "outputs": [],
   "source": [
    "from tensorflow.keras.datasets import mnist\n",
    "\n",
    "(train_images, train_labels), (test_images, test_labels) = mnist.load_data()"
   ]
  },
  {
   "cell_type": "code",
   "execution_count": 2,
   "metadata": {},
   "outputs": [
    {
     "name": "stdout",
     "output_type": "stream",
     "text": [
      "(60000, 28, 28) (10000, 28, 28)\n"
     ]
    }
   ],
   "source": [
    "print(train_images.shape, test_images.shape)"
   ]
  },
  {
   "cell_type": "code",
   "execution_count": 3,
   "metadata": {},
   "outputs": [
    {
     "name": "stdout",
     "output_type": "stream",
     "text": [
      "60000 10000\n"
     ]
    }
   ],
   "source": [
    "print(len(train_labels), len(test_labels))"
   ]
  },
  {
   "cell_type": "code",
   "execution_count": 4,
   "metadata": {},
   "outputs": [],
   "source": [
    "from tensorflow.keras.utils import to_categorical\n",
    "\n",
    "train_images= train_images.reshape((60000, 28 * 28))\n",
    "train_images= train_images.astype('float32') / 255\n",
    "test_images= test_images.reshape((10000, 28 * 28))\n",
    "test_images= test_images.astype('float32') / 255\n",
    "train_labels= to_categorical(train_labels)\n",
    "test_labels= to_categorical(test_labels)"
   ]
  },
  {
   "cell_type": "code",
   "execution_count": 5,
   "metadata": {},
   "outputs": [],
   "source": [
    "from tensorflow.keras import models, layers"
   ]
  },
  {
   "cell_type": "code",
   "execution_count": 6,
   "metadata": {},
   "outputs": [],
   "source": [
    "network = models.Sequential()\n",
    "network.add(layers.Dense(512, activation='relu', input_shape=(28 * 28,)))\n",
    "network.add(layers.Dense(10,activation='softmax'))"
   ]
  },
  {
   "cell_type": "code",
   "execution_count": 7,
   "metadata": {},
   "outputs": [],
   "source": [
    "network.compile(optimizer='rmsprop',\n",
    "                loss='categorical_crossentropy',\n",
    "                metrics=['accuracy'])"
   ]
  },
  {
   "cell_type": "code",
   "execution_count": 11,
   "metadata": {},
   "outputs": [
    {
     "name": "stdout",
     "output_type": "stream",
     "text": [
      "Train on 60000 samples\n",
      "Epoch 1/5\n",
      "60000/60000 [==============================] - 4s 71us/sample - loss: 0.2530 - accuracy: 0.9270\n",
      "Epoch 2/5\n",
      "60000/60000 [==============================] - 1s 17us/sample - loss: 0.1026 - accuracy: 0.9693\n",
      "Epoch 3/5\n",
      "60000/60000 [==============================] - 1s 17us/sample - loss: 0.0679 - accuracy: 0.9798\n",
      "Epoch 4/5\n",
      "60000/60000 [==============================] - 1s 17us/sample - loss: 0.0498 - accuracy: 0.9850\n",
      "Epoch 5/5\n",
      "60000/60000 [==============================] - 1s 17us/sample - loss: 0.0377 - accuracy: 0.9880\n"
     ]
    },
    {
     "data": {
      "text/plain": [
       "<tensorflow.python.keras.callbacks.History at 0x7fd2d045c610>"
      ]
     },
     "execution_count": 11,
     "metadata": {},
     "output_type": "execute_result"
    }
   ],
   "source": [
    "network.fit(train_images, train_labels, epochs=5, batch_size=128)"
   ]
  },
  {
   "cell_type": "code",
   "execution_count": 25,
   "metadata": {},
   "outputs": [
    {
     "name": "stdout",
     "output_type": "stream",
     "text": [
      "10000/10000 [==============================] - 1s 55us/sample - loss: 0.0738 - accuracy: 0.9801\n"
     ]
    }
   ],
   "source": [
    "test_loss, test_acc = network.evaluate(test_images, test_labels)"
   ]
  },
  {
   "cell_type": "code",
   "execution_count": 26,
   "metadata": {},
   "outputs": [
    {
     "name": "stdout",
     "output_type": "stream",
     "text": [
      "0.0737730551923145 0.9801\n"
     ]
    }
   ],
   "source": [
    "print(test_loss, test_acc)"
   ]
  },
  {
   "cell_type": "code",
   "execution_count": 28,
   "metadata": {},
   "outputs": [],
   "source": [
    "# Example 2 - IMDB"
   ]
  },
  {
   "cell_type": "code",
   "execution_count": 1,
   "metadata": {},
   "outputs": [],
   "source": [
    "from tensorflow.keras.datasets import imdb\n",
    "(train_data, train_labels),(test_data, test_labels) = imdb.load_data(num_words=10000)"
   ]
  },
  {
   "cell_type": "code",
   "execution_count": 2,
   "metadata": {},
   "outputs": [
    {
     "name": "stdout",
     "output_type": "stream",
     "text": [
      "(25000,) (25000,)\n"
     ]
    }
   ],
   "source": [
    "print(train_data.shape,test_data.shape)"
   ]
  },
  {
   "cell_type": "code",
   "execution_count": 3,
   "metadata": {},
   "outputs": [
    {
     "name": "stdout",
     "output_type": "stream",
     "text": [
      "25000 25000\n"
     ]
    }
   ],
   "source": [
    "print(len(train_labels),len(test_labels))"
   ]
  },
  {
   "cell_type": "code",
   "execution_count": 4,
   "metadata": {},
   "outputs": [
    {
     "name": "stdout",
     "output_type": "stream",
     "text": [
      "[1, 14, 22, 16, 43, 530, 973, 1622, 1385, 65, 458, 4468, 66, 3941, 4, 173, 36, 256, 5, 25, 100, 43, 838, 112, 50, 670, 2, 9, 35, 480, 284, 5, 150, 4, 172, 112, 167, 2, 336, 385, 39, 4, 172, 4536, 1111, 17, 546, 38, 13, 447, 4, 192, 50, 16, 6, 147, 2025, 19, 14, 22, 4, 1920, 4613, 469, 4, 22, 71, 87, 12, 16, 43, 530, 38, 76, 15, 13, 1247, 4, 22, 17, 515, 17, 12, 16, 626, 18, 2, 5, 62, 386, 12, 8, 316, 8, 106, 5, 4, 2223, 5244, 16, 480, 66, 3785, 33, 4, 130, 12, 16, 38, 619, 5, 25, 124, 51, 36, 135, 48, 25, 1415, 33, 6, 22, 12, 215, 28, 77, 52, 5, 14, 407, 16, 82, 2, 8, 4, 107, 117, 5952, 15, 256, 4, 2, 7, 3766, 5, 723, 36, 71, 43, 530, 476, 26, 400, 317, 46, 7, 4, 2, 1029, 13, 104, 88, 4, 381, 15, 297, 98, 32, 2071, 56, 26, 141, 6, 194, 7486, 18, 4, 226, 22, 21, 134, 476, 26, 480, 5, 144, 30, 5535, 18, 51, 36, 28, 224, 92, 25, 104, 4, 226, 65, 16, 38, 1334, 88, 12, 16, 283, 5, 16, 4472, 113, 103, 32, 15, 16, 5345, 19, 178, 32]\n",
      "1\n",
      "9999\n",
      "?thishastobeoneoftheworstfilmsofthe1990swhenmyfriendsiwerewatchingthisfilmbeingthetargetaudienceitwasaimedatwejustsatwatchedthefirsthalfanhourwithourjawstouchingthefloorathowbaditreallywastherestofthetimeeveryoneelseinthetheatrejuststartedtalkingtoeachotherleavingorgenerallycryingintotheirpopcornthattheyactuallypaidmoneytheyhad?workingtowatchthisfeebleexcuseforafilmitmusthavelookedlikeagreatideaonpaperbutonfilmitlookslikenooneinthefilmhasacluewhatisgoingoncrapactingcrapcostumesican'tgetacrosshow?thisistowatchsaveyourselfanhourabitofyourlife\n"
     ]
    }
   ],
   "source": [
    "print(train_data[0])\n",
    "print(train_labels[0])\n",
    "\n",
    "print(max([max(sequence) for sequence in train_data]))\n",
    "\n",
    "word_index = imdb.get_word_index()\n",
    "reverse_word_index = dict([(value,key) for (key,value) in word_index.items()])\n",
    "decoded_review = ''.join([reverse_word_index.get(i - 3, '?') for i in train_data[2]])\n",
    "print(decoded_review)"
   ]
  },
  {
   "cell_type": "code",
   "execution_count": 5,
   "metadata": {},
   "outputs": [],
   "source": [
    "import numpy as np\n",
    "def vectorize_sequences(sequences, dimension=10000):\n",
    "    results = np.zeros((len(sequences), dimension))\n",
    "    for i, sequence in enumerate(sequences):\n",
    "        results[i, sequence] = 1\n",
    "    return results"
   ]
  },
  {
   "cell_type": "code",
   "execution_count": 6,
   "metadata": {},
   "outputs": [],
   "source": [
    "x_train = vectorize_sequences(train_data)\n",
    "x_test = vectorize_sequences(test_data)\n",
    "\n",
    "y_train = np.asarray(train_labels).astype('float32')\n",
    "y_test = np.asarray(test_labels).astype('float32')"
   ]
  },
  {
   "cell_type": "code",
   "execution_count": 7,
   "metadata": {},
   "outputs": [],
   "source": [
    "from tensorflow.keras import models, layers\n",
    "\n",
    "model=models.Sequential()\n",
    "model.add(layers.Dense(16, activation='relu', input_shape=(10000,)))\n",
    "model.add(layers.Dense(16, activation='relu'))\n",
    "model.add(layers.Dense(1, activation='sigmoid'))\n",
    "\n",
    "model.compile(optimizer='rmsprop',\n",
    "                loss='binary_crossentropy',\n",
    "                metrics=['accuracy'])"
   ]
  },
  {
   "cell_type": "code",
   "execution_count": 8,
   "metadata": {
    "scrolled": true
   },
   "outputs": [
    {
     "name": "stdout",
     "output_type": "stream",
     "text": [
      "Train on 15000 samples, validate on 10000 samples\n",
      "Epoch 1/20\n",
      "15000/15000 [==============================] - 2s 107us/sample - loss: 0.5029 - accuracy: 0.7853 - val_loss: 0.3734 - val_accuracy: 0.8700\n",
      "Epoch 2/20\n",
      "15000/15000 [==============================] - 1s 46us/sample - loss: 0.2993 - accuracy: 0.9022 - val_loss: 0.3139 - val_accuracy: 0.8773\n",
      "Epoch 3/20\n",
      "15000/15000 [==============================] - 1s 46us/sample - loss: 0.2218 - accuracy: 0.9281 - val_loss: 0.2907 - val_accuracy: 0.8824\n",
      "Epoch 4/20\n",
      "15000/15000 [==============================] - 1s 46us/sample - loss: 0.1771 - accuracy: 0.9425 - val_loss: 0.2802 - val_accuracy: 0.8872\n",
      "Epoch 5/20\n",
      "15000/15000 [==============================] - 1s 46us/sample - loss: 0.1431 - accuracy: 0.9560 - val_loss: 0.2863 - val_accuracy: 0.8856\n",
      "Epoch 6/20\n",
      "15000/15000 [==============================] - 1s 47us/sample - loss: 0.1202 - accuracy: 0.9623 - val_loss: 0.2894 - val_accuracy: 0.8845\n",
      "Epoch 7/20\n",
      "15000/15000 [==============================] - 1s 46us/sample - loss: 0.0978 - accuracy: 0.9720 - val_loss: 0.3144 - val_accuracy: 0.8801\n",
      "Epoch 8/20\n",
      "15000/15000 [==============================] - 1s 47us/sample - loss: 0.0834 - accuracy: 0.9767 - val_loss: 0.3409 - val_accuracy: 0.8779\n",
      "Epoch 9/20\n",
      "15000/15000 [==============================] - 1s 50us/sample - loss: 0.0678 - accuracy: 0.9817 - val_loss: 0.3493 - val_accuracy: 0.8776\n",
      "Epoch 10/20\n",
      "15000/15000 [==============================] - 1s 47us/sample - loss: 0.0555 - accuracy: 0.9861 - val_loss: 0.3693 - val_accuracy: 0.8798\n",
      "Epoch 11/20\n",
      "15000/15000 [==============================] - 1s 46us/sample - loss: 0.0451 - accuracy: 0.9901 - val_loss: 0.3960 - val_accuracy: 0.8771\n",
      "Epoch 12/20\n",
      "15000/15000 [==============================] - 1s 48us/sample - loss: 0.0351 - accuracy: 0.9926 - val_loss: 0.4276 - val_accuracy: 0.8763\n",
      "Epoch 13/20\n",
      "15000/15000 [==============================] - 1s 47us/sample - loss: 0.0282 - accuracy: 0.9949 - val_loss: 0.4629 - val_accuracy: 0.8727\n",
      "Epoch 14/20\n",
      "15000/15000 [==============================] - 1s 51us/sample - loss: 0.0227 - accuracy: 0.9961 - val_loss: 0.4919 - val_accuracy: 0.8719\n",
      "Epoch 15/20\n",
      "15000/15000 [==============================] - 1s 49us/sample - loss: 0.0162 - accuracy: 0.9979 - val_loss: 0.5212 - val_accuracy: 0.8722\n",
      "Epoch 16/20\n",
      "15000/15000 [==============================] - 1s 46us/sample - loss: 0.0117 - accuracy: 0.9991 - val_loss: 0.5809 - val_accuracy: 0.8657\n",
      "Epoch 17/20\n",
      "15000/15000 [==============================] - 1s 46us/sample - loss: 0.0108 - accuracy: 0.9991 - val_loss: 0.5928 - val_accuracy: 0.8692\n",
      "Epoch 18/20\n",
      "15000/15000 [==============================] - 1s 46us/sample - loss: 0.0078 - accuracy: 0.9993 - val_loss: 0.6292 - val_accuracy: 0.8676\n",
      "Epoch 19/20\n",
      "15000/15000 [==============================] - 1s 47us/sample - loss: 0.0048 - accuracy: 0.9997 - val_loss: 0.7647 - val_accuracy: 0.8538\n",
      "Epoch 20/20\n",
      "15000/15000 [==============================] - 1s 44us/sample - loss: 0.0039 - accuracy: 0.9997 - val_loss: 0.7068 - val_accuracy: 0.8673\n"
     ]
    }
   ],
   "source": [
    "x_val = x_train[:10000]\n",
    "partial_x_train = x_train[10000:]\n",
    "y_val = y_train[:10000]\n",
    "partial_y_train = y_train[10000:]\n",
    "\n",
    "history = model.fit(partial_x_train,\n",
    "                   partial_y_train,\n",
    "                   epochs=20,\n",
    "                   batch_size=512,\n",
    "                   validation_data=(x_val,y_val))"
   ]
  },
  {
   "cell_type": "code",
   "execution_count": 3,
   "metadata": {},
   "outputs": [],
   "source": [
    "from __future__ import absolute_import, division, print_function, unicode_literals\n",
    "import os\n",
    "\n",
    "#import tensorflow as tf\n",
    "#print(\"Num GPUs Available: \", len(tf.config.experimental.list_physical_devices('GPU')))\n",
    "\n",
    "os.environ[\"CUDA_DEVICE_ORDER\"] = \"PCI_BUS_ID\"\n",
    "os.environ[\"CUDA_VISIBLE_DEVICES\"] = \"0\""
   ]
  }
 ],
 "metadata": {
  "kernelspec": {
   "display_name": "Python 3.7.4 64-bit ('base': conda)",
   "language": "python",
   "name": "python37464bitbaseconda9372eea3c76d4133880fd0ae9a86542b"
  },
  "language_info": {
   "codemirror_mode": {
    "name": "ipython",
    "version": 3
   },
   "file_extension": ".py",
   "mimetype": "text/x-python",
   "name": "python",
   "nbconvert_exporter": "python",
   "pygments_lexer": "ipython3",
   "version": "3.7.6"
  }
 },
 "nbformat": 4,
 "nbformat_minor": 4
}
