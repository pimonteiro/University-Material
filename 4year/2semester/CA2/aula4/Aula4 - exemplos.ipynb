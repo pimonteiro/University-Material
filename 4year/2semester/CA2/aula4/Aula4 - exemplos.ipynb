{
 "cells": [
  {
   "cell_type": "code",
   "execution_count": 9,
   "metadata": {},
   "outputs": [
    {
     "name": "stdout",
     "output_type": "stream",
     "text": [
      "(105, 4) (105,)\n",
      "(45, 4) (45,)\n",
      "0.9555555555555556\n"
     ]
    }
   ],
   "source": [
    "from sklearn import svm\n",
    "from sklearn.model_selection import cross_val_score, train_test_split\n",
    "from sklearn import datasets\n",
    "\n",
    "iris = datasets.load_iris()\n",
    "\n",
    "X_train, X_test, y_train, y_test = train_test_split(iris.data, iris.target, test_size= 0.3)\n",
    "print(X_train.shape, y_train.shape)\n",
    "print(X_test.shape, y_test.shape)\n",
    "svm_model = svm.SVC(kernel='linear', C=1)\n",
    "svm_model.fit(X_train, y_train)\n",
    "print(svm_model.score(X_test, y_test))"
   ]
  },
  {
   "cell_type": "code",
   "execution_count": 12,
   "metadata": {},
   "outputs": [
    {
     "name": "stdout",
     "output_type": "stream",
     "text": [
      "Valoresprevistos:  [ 0.00342676  1.12701388  0.98300786  1.05359458  0.01600813 -0.01351355\n",
      "  1.87995307  1.74600218  2.07120194  0.85422848  1.0918266   1.07238754\n",
      "  1.65809935  0.10715552  1.22257786  2.01187512  0.02306888  0.00387712\n",
      "  0.01403105  0.95281961  0.98544378  1.94453828  0.00716746 -0.01111469\n",
      "  1.2924811   2.05998049  0.05520811  1.20464974 -0.01904586  0.05885082\n",
      "  0.08782253  2.02837543  1.93139007  0.0585821   1.94983317  1.53270328\n",
      "  1.90290296  0.91530169  1.17903485  1.56787188  1.30019035  0.8248995\n",
      "  1.78535036  2.04390369  0.02886761]\n",
      "MSE: 0.0\n"
     ]
    }
   ],
   "source": [
    "from sklearn.svm import SVR\n",
    "from sklearn.metrics import mean_squared_error\n",
    "\n",
    "Xd_train, Xd_test, yd_train, yd_test = train_test_split(iris.data, iris.target, test_size= 0.3)\n",
    "\n",
    "svm_reg= SVR(gamma = \"auto\")\n",
    "svm_reg= svm_reg.fit(Xd_train, yd_train)\n",
    "pred_svm= svm_reg.predict(Xd_test)\n",
    "print(\"Valoresprevistos: \" , pred_svm)\n",
    "mse= mean_squared_error(yd_test, pred_svm)\n",
    "print(\"MSE: %.1f\" % mse)"
   ]
  },
  {
   "cell_type": "code",
   "execution_count": 22,
   "metadata": {},
   "outputs": [
    {
     "name": "stdout",
     "output_type": "stream",
     "text": [
      "(1797, 64)\n",
      "(1797, 29)\n",
      "[[ 5.  1. 13. ...  6. 10.  0.]\n",
      " [ 0.  5.  0. ...  0. 16. 10.]\n",
      " [ 0. 12.  3. ...  0. 11. 16.]\n",
      " ...\n",
      " [ 1.  1. 13. ...  2. 13.  6.]\n",
      " [ 2.  0. 14. ...  5. 16. 12.]\n",
      " [10.  1. 16. ...  8. 14. 12.]]\n",
      "0.9810738671632526\n",
      "0.9777405338299193\n"
     ]
    }
   ],
   "source": [
    "from sklearn import datasets, svm\n",
    "from sklearn.feature_selection import VarianceThreshold\n",
    "from sklearn.model_selection import cross_val_score\n",
    "\n",
    "digits = datasets.load_digits()\n",
    "print (digits.data.shape)\n",
    "sel= VarianceThreshold(threshold=20)\n",
    "filt= sel.fit_transform(digits.data)\n",
    "print (filt.shape)\n",
    "print(filt)\n",
    "svm_model= svm.SVC(gamma=0.001, C=100.)\n",
    "scores= cross_val_score(svm_model, digits.data, digits.target, cv= 10)\n",
    "print (scores.mean())\n",
    "scores_vt= cross_val_score(svm_model, filt, digits.target, cv= 10)\n",
    "print (scores_vt.mean())"
   ]
  },
  {
   "cell_type": "code",
   "execution_count": 15,
   "metadata": {},
   "outputs": [
    {
     "name": "stdout",
     "output_type": "stream",
     "text": [
      "0.9499224084419614\n"
     ]
    }
   ],
   "source": [
    "from sklearn.feature_selection import RFE\n",
    "svm_model= svm.SVC(kernel = \"linear\", C=100.)\n",
    "rfe= RFE(estimator=svm_model, n_features_to_select=32, step=1)\n",
    "scores_rfe= cross_val_score(rfe, digits.data, digits.target, cv = 10)\n",
    "print (scores_rfe.mean())"
   ]
  },
  {
   "cell_type": "code",
   "execution_count": 24,
   "metadata": {},
   "outputs": [
    {
     "name": "stdout",
     "output_type": "stream",
     "text": [
      "SVC(C=1, break_ties=False, cache_size=200, class_weight=None, coef0=0.0,\n",
      "    decision_function_shape='ovr', degree=3, gamma=0.001, kernel='rbf',\n",
      "    max_iter=-1, probability=False, random_state=None, shrinking=True,\n",
      "    tol=0.001, verbose=False)\n",
      "0.972185082017951\n"
     ]
    }
   ],
   "source": [
    "from sklearn import svm, datasets\n",
    "from sklearn.model_selection import cross_val_score, GridSearchCV\n",
    "\n",
    "parameters = {'kernel':('linear', 'rbf'), 'C':[1, 3, 10, 100], 'gamma':[0.01, 0.001]}\n",
    "svm_model_d= svm.SVC()\n",
    "opt_model_d= GridSearchCV(svm_model_d, parameters)\n",
    "opt_model_d.fit(digits.data, digits.target)\n",
    "print (opt_model_d.best_estimator_)\n",
    "scores_gs= cross_val_score(opt_model_d, digits.data, digits.target, cv = 5)\n",
    "print (scores_gs.mean())"
   ]
  },
  {
   "cell_type": "code",
   "execution_count": 30,
   "metadata": {},
   "outputs": [],
   "source": [
    "import numpy as np\n",
    "def report(results, n_top=3):\n",
    "    for i in range(1, n_top+ 1):\n",
    "        candidates = np.flatnonzero(results['rank_test_score'] == i)\n",
    "        for candidate in candidates:\n",
    "            print(\"Model with rank: {0}\".format(i))\n",
    "            print(\"Mean validation score: {0:.3f} (std: {1:.3f})\".format(\n",
    "                results['mean_test_score'][candidate],\n",
    "                results['std_test_score'][candidate]))\n",
    "        print(\"Parameters: {0}\".format(results['params'][candidate]))\n",
    "        print(\"\")"
   ]
  },
  {
   "cell_type": "code",
   "execution_count": 31,
   "metadata": {},
   "outputs": [
    {
     "name": "stdout",
     "output_type": "stream",
     "text": [
      "RandomForestClassifier(bootstrap=True, ccp_alpha=0.0, class_weight=None,\n",
      "                       criterion='entropy', max_depth=None, max_features=2,\n",
      "                       max_leaf_nodes=None, max_samples=None,\n",
      "                       min_impurity_decrease=0.0, min_impurity_split=None,\n",
      "                       min_samples_leaf=4, min_samples_split=2,\n",
      "                       min_weight_fraction_leaf=0.0, n_estimators=100,\n",
      "                       n_jobs=None, oob_score=False, random_state=None,\n",
      "                       verbose=0, warm_start=False)\n",
      "Model with rank: 1\n",
      "Mean validation score: 0.927 (std: 0.021)\n",
      "Parameters: {'min_samples_split': 2, 'min_samples_leaf': 4, 'max_features': 2, 'max_depth': None, 'criterion': 'entropy', 'bootstrap': True}\n",
      "\n",
      "Model with rank: 2\n",
      "Mean validation score: 0.927 (std: 0.018)\n",
      "Parameters: {'min_samples_split': 6, 'min_samples_leaf': 4, 'max_features': 2, 'max_depth': None, 'criterion': 'gini', 'bootstrap': True}\n",
      "\n",
      "Model with rank: 3\n",
      "Mean validation score: 0.927 (std: 0.020)\n",
      "Parameters: {'min_samples_split': 6, 'min_samples_leaf': 4, 'max_features': 6, 'max_depth': None, 'criterion': 'entropy', 'bootstrap': True}\n",
      "\n",
      "0.9343500464252553\n"
     ]
    }
   ],
   "source": [
    "from sklearn.model_selection import RandomizedSearchCV\n",
    "from sklearn.ensemble import RandomForestClassifier\n",
    "\n",
    "rf_model= RandomForestClassifier(n_estimators=100)\n",
    "param_dist= {\"max_depth\": [2, 3, None], \"max_features\": [2,4,6], \"min_samples_split\": [2,4,6], \"min_samples_leaf\": [2,4,6], \"bootstrap\": [True, False], \"criterion\": [\"gini\", \"entropy\"]}\n",
    "rand_search= RandomizedSearchCV(rf_model, param_distributions=param_dist, n_iter=20, cv = 5)\n",
    "rand_search.fit(digits.data, digits.target)\n",
    "print (rand_search.best_estimator_)\n",
    "report(rand_search.cv_results_)\n",
    "scores_rs= cross_val_score(rand_search, digits.data, digits.target, cv = 5)\n",
    "print (scores_rs.mean())"
   ]
  }
 ],
 "metadata": {
  "kernelspec": {
   "display_name": "Python 3",
   "language": "python",
   "name": "python3"
  },
  "language_info": {
   "codemirror_mode": {
    "name": "ipython",
    "version": 3
   },
   "file_extension": ".py",
   "mimetype": "text/x-python",
   "name": "python",
   "nbconvert_exporter": "python",
   "pygments_lexer": "ipython3",
   "version": "3.8.2"
  }
 },
 "nbformat": 4,
 "nbformat_minor": 4
}
